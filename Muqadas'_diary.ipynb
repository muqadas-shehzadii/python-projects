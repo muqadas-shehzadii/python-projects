{
 "cells": [
  {
   "cell_type": "markdown",
   "id": "32cfc6db-55a0-4208-9f77-1740e1040e7a",
   "metadata": {},
   "source": [
    "<h1 align = center>My Diary</h1>"
   ]
  },
  {
   "cell_type": "code",
   "execution_count": 29,
   "id": "ab7c2b03-b6e5-4405-8989-25a140db4a0a",
   "metadata": {},
   "outputs": [
    {
     "name": "stdout",
     "output_type": "stream",
     "text": [
      "1. Write New Entry\n",
      "2. View Past Entry\n",
      "3. Exit\n"
     ]
    },
    {
     "name": "stdin",
     "output_type": "stream",
     "text": [
      "Choose an option:  2\n"
     ]
    },
    {
     "name": "stdout",
     "output_type": "stream",
     "text": [
      "\n",
      "==== Past Entries ====\n",
      "I am a python learner\n"
     ]
    }
   ],
   "source": [
    "def menuSystem():\n",
    "    print(\"==== My Diary ====\")\n",
    "    entry = input(\"Write in diary: \")\n",
    "\n",
    "    with open(\"my_diary.txt\", 'w') as file:\n",
    "        file.write(entry)\n",
    "\n",
    "    print(\"\\nYour diary entry:\")\n",
    "    for word in entry.split():\n",
    "        print(word)\n",
    "\n",
    "def viewPastEntries():\n",
    "    print(\"\\n==== Past Entries ====\")\n",
    "    try:\n",
    "        with open(\"my_diary.txt\", \"r\") as file:\n",
    "            content = file.read()\n",
    "            print(content)\n",
    "    except FileNotFoundError:\n",
    "        print(\"No diary entry found.\")\n",
    "def exitdiary():\n",
    "        print(\"=== Exit===\")\n",
    "        with open(\"my_diary\") as file:\n",
    "            file.close()\n",
    "def main():\n",
    "    print(\"1. Write New Entry\")\n",
    "    print(\"2. View Past Entry\")\n",
    "    print(\"3. Exit\")\n",
    "    choice = input(\"Choose an option: \")\n",
    "\n",
    "    if choice == '1':\n",
    "        menuSystem()\n",
    "    elif choice == '2':\n",
    "        viewPastEntries()\n",
    "    elif choice == '3':\n",
    "        exitdiary()    \n",
    "    else:\n",
    "        print(\"Invalid choice.\")\n",
    "\n",
    "# Run main() only if this file is executed directly\n",
    "if __name__ == \"__main__\":\n",
    "    main()\n"
   ]
  },
  {
   "cell_type": "code",
   "execution_count": null,
   "id": "ad0c1610-b6a8-4537-ab7d-855aae1f1dfa",
   "metadata": {},
   "outputs": [],
   "source": []
  },
  {
   "cell_type": "code",
   "execution_count": null,
   "id": "901748a6-cce0-41ad-aedc-3a6e9326b933",
   "metadata": {},
   "outputs": [],
   "source": []
  }
 ],
 "metadata": {
  "kernelspec": {
   "display_name": "Python 3 (ipykernel)",
   "language": "python",
   "name": "python3"
  },
  "language_info": {
   "codemirror_mode": {
    "name": "ipython",
    "version": 3
   },
   "file_extension": ".py",
   "mimetype": "text/x-python",
   "name": "python",
   "nbconvert_exporter": "python",
   "pygments_lexer": "ipython3",
   "version": "3.12.7"
  }
 },
 "nbformat": 4,
 "nbformat_minor": 5
}
