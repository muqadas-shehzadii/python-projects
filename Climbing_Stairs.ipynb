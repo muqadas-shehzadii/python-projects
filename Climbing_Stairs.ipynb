{
 "cells": [
  {
   "cell_type": "code",
   "execution_count": 3,
   "id": "36eaa6f0-4702-4d98-befd-3d2604ab0bd0",
   "metadata": {},
   "outputs": [
    {
     "name": "stdin",
     "output_type": "stream",
     "text": [
      "Enter the number of steps from 1 to 45 :  34\n"
     ]
    },
    {
     "name": "stdout",
     "output_type": "stream",
     "text": [
      "Number of distinct ways to climb 34 steps: 9227465\n",
      "Thanks for using the staircase calculator ! \n"
     ]
    }
   ],
   "source": [
    "def climb_stairs(n):\n",
    "    '''This Python program calculates the number of distinct ways to climb a staircase with a given number of steps, where:\n",
    "\n",
    "You can climb either 1 step or 2 steps at a time.\n",
    "\n",
    "The total number of steps (n) is input by the user.\n",
    "\n",
    "The solution uses a recursive function based on the Fibonacci sequence.'''\n",
    "    if n == 1:\n",
    "        return 1\n",
    "    elif n == 2:\n",
    "        return 2\n",
    "    else:\n",
    "        return climb_stairs(n - 1) + climb_stairs(n - 2)\n",
    "\n",
    "try:\n",
    "    num = int(input(\"Enter the number of steps from 1 to 45 : \"))\n",
    "    if not(1 <= num <= 45):\n",
    "        raise ValueError(\"Number out of valid range(1 to 45) \")\n",
    "    result = climb_stairs(num)\n",
    "    print(f\"Number of distinct ways to climb {num} steps: {result}\")\n",
    "\n",
    "except ValueError as VE:\n",
    "    print(\"ValueError : \" , VE)\n",
    "\n",
    "except Exception as e:\n",
    "    print(\"An unexpected error occured : \" , e)\n",
    "\n",
    "finally:\n",
    "    print(\"Thanks for using the staircase calculator ! \") "
   ]
  },
  {
   "cell_type": "code",
   "execution_count": null,
   "id": "e6bc5a27-9a67-4027-9470-402f594d45c3",
   "metadata": {},
   "outputs": [],
   "source": []
  }
 ],
 "metadata": {
  "kernelspec": {
   "display_name": "Python [conda env:base] *",
   "language": "python",
   "name": "conda-base-py"
  },
  "language_info": {
   "codemirror_mode": {
    "name": "ipython",
    "version": 3
   },
   "file_extension": ".py",
   "mimetype": "text/x-python",
   "name": "python",
   "nbconvert_exporter": "python",
   "pygments_lexer": "ipython3",
   "version": "3.12.7"
  }
 },
 "nbformat": 4,
 "nbformat_minor": 5
}
