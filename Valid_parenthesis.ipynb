{
 "cells": [
  {
   "cell_type": "code",
   "execution_count": 7,
   "id": "c384c5df-34f9-4027-82db-b2899a482465",
   "metadata": {},
   "outputs": [
    {
     "name": "stdin",
     "output_type": "stream",
     "text": [
      " Enter string:  [{()}]\n"
     ]
    },
    {
     "name": "stdout",
     "output_type": "stream",
     "text": [
      "\n",
      "Checking char =  [\n",
      "adding to tracker\n",
      "Tracker : ['[']\n",
      "\n",
      "Checking char =  {\n",
      "adding to tracker\n",
      "Tracker : ['[', '{']\n",
      "\n",
      "Checking char =  (\n",
      "adding to tracker\n",
      "Tracker : ['[', '{', '(']\n",
      "\n",
      "Checking char =  )\n",
      " Character matched\n",
      "tracker after pop: ['[', '{']\n",
      "\n",
      "Checking char =  }\n",
      " Character matched\n",
      "tracker after pop: ['[']\n",
      "\n",
      "Checking char =  ]\n",
      " Character matched\n",
      "tracker after pop: []\n",
      "\n",
      "\n",
      "\n",
      " String is valid\n",
      "True\n"
     ]
    }
   ],
   "source": [
    "def valid(s):\n",
    "    '''This function checks whether the input string 's' contains valid and properly nested parentheises??'''\n",
    "    try:\n",
    "        tracker = []\n",
    "        brackets = {')': '(', '}': '{', ']': '['}\n",
    "\n",
    "        if not (1 <= len(s) <= 10**4):\n",
    "            print(\" Invalid Input length\")\n",
    "            return False\n",
    "        \n",
    "        allowed_chars = set(\"()[]{}\")\n",
    "        for char in s:\n",
    "            if char not in allowed_chars:\n",
    "                print(\" Input should consist parentheises only\")\n",
    "                return False\n",
    "        \n",
    "        for char in s:\n",
    "            print()\n",
    "            print('Checking char = ', char)\n",
    "            if char in brackets:\n",
    "                if len(tracker) == 0:\n",
    "                    print(' String is not valid')\n",
    "                    return False\n",
    "                if tracker[-1] != brackets[char]:\n",
    "                    print(' String is not valid')\n",
    "                    return False\n",
    "                print(' Character matched')\n",
    "                tracker.pop()\n",
    "                print(f\"tracker after pop: {tracker}\")\n",
    "            else:\n",
    "                tracker.append(char)\n",
    "                print('adding to tracker')\n",
    "                print(f\"Tracker : {tracker}\")\n",
    "        \n",
    "        if len(tracker) == 0:\n",
    "            print('\\n')\n",
    "            print('\\n String is valid')\n",
    "            return True\n",
    "        else:\n",
    "            print('\\n')\n",
    "            print('\\n String is not valid')\n",
    "            return False\n",
    "    \n",
    "    except Exception as e:\n",
    "        print(f\" An unexpected error occurred: {e}\")\n",
    "        return False\n",
    "\n",
    "inp_str = input(' Enter string: ')\n",
    "print(valid(inp_str))\n"
   ]
  },
  {
   "cell_type": "code",
   "execution_count": null,
   "id": "26cf365a-da22-49bd-919b-ffb4cff75de3",
   "metadata": {},
   "outputs": [],
   "source": []
  }
 ],
 "metadata": {
  "kernelspec": {
   "display_name": "Python [conda env:base] *",
   "language": "python",
   "name": "conda-base-py"
  },
  "language_info": {
   "codemirror_mode": {
    "name": "ipython",
    "version": 3
   },
   "file_extension": ".py",
   "mimetype": "text/x-python",
   "name": "python",
   "nbconvert_exporter": "python",
   "pygments_lexer": "ipython3",
   "version": "3.12.7"
  }
 },
 "nbformat": 4,
 "nbformat_minor": 5
}
