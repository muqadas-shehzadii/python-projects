{
 "cells": [
  {
   "cell_type": "markdown",
   "id": "aa5067b6-42a6-4b66-8d85-d42d7630fa5c",
   "metadata": {},
   "source": [
    "### Use os, shutil, and datetime:\n",
    "### Write a program that scans a directory and moves files into folders by their file type (e.g., .txt, .jpg)\n",
    "### Add a timestamp to each file’s name using the current date and time"
   ]
  },
  {
   "cell_type": "code",
   "execution_count": 14,
   "id": "dcde0a62-e884-4702-b6e6-00e7147a2f9e",
   "metadata": {},
   "outputs": [
    {
     "name": "stdin",
     "output_type": "stream",
     "text": [
      "Enter folder name downloads\n"
     ]
    },
    {
     "name": "stdout",
     "output_type": "stream",
     "text": [
      "Moved: family.csv.csv ➡ csv/family.csv_20250503_000924.csv\n",
      "Moved: WhatsApp Instal.exe ➡ exe/WhatsApp Instal_20250503_000924.exe\n",
      "Moved: WhatsApp Installer (2).exe ➡ exe/WhatsApp Installer (2)_20250503_000924.exe\n"
     ]
    }
   ],
   "source": [
    "import os\n",
    "import shutil\n",
    "from datetime import datetime\n",
    "\n",
    "def organize_files_with_timestamp(folder_path):\n",
    "    try:\n",
    "        if not os.path.exists(folder_path):\n",
    "            print(\"Folder not found.\")\n",
    "            return\n",
    "\n",
    "        for file_name in os.listdir(folder_path):\n",
    "            file_path = os.path.join(folder_path, file_name)\n",
    "\n",
    "            if os.path.isfile(file_path):\n",
    "                file_ext = os.path.splitext(file_name)[1].strip(\".\")\n",
    "                if file_ext == \"\":\n",
    "                    file_ext = \"no_extension\"\n",
    "\n",
    "                new_folder = os.path.join(folder_path, file_ext)\n",
    "                if not os.path.exists(new_folder):\n",
    "                    os.mkdir(new_folder)\n",
    "\n",
    "                name_only, ext = os.path.splitext(file_name)\n",
    "                timestamp = datetime.now().strftime(\"%Y%m%d_%H%M%S\")\n",
    "                new_name = f\"{name_only}_{timestamp}{ext}\"\n",
    "                new_path = os.path.join(new_folder, new_name)\n",
    "\n",
    "                shutil.move(file_path, new_path)\n",
    "                print(f\"Moved: {file_name} ➡ {file_ext}/{new_name}\")\n",
    "\n",
    "    except Exception as e:\n",
    "        print(\"Error:\", e)\n",
    "\n",
    "folder = input(\"Enter folder name\")\n",
    "organize_files_with_timestamp(folder)"
   ]
  },
  {
   "cell_type": "markdown",
   "id": "5a356503-fbc4-498b-9b24-88f000764a16",
   "metadata": {},
   "source": [
    "### Use datetime:\n",
    "### Ask the user for their birthdate.\n",
    "### Print how many days are left until their next birthday."
   ]
  },
  {
   "cell_type": "code",
   "execution_count": 48,
   "id": "e0c54f31-3403-44d9-b357-2b874adc48ab",
   "metadata": {},
   "outputs": [
    {
     "name": "stdout",
     "output_type": "stream",
     "text": [
      "Birthday Countdown Calculator\n",
      "----------------------------\n",
      "Enter your birthday:\n"
     ]
    },
    {
     "name": "stdin",
     "output_type": "stream",
     "text": [
      "Day (1-31):  o9\n"
     ]
    },
    {
     "name": "stdout",
     "output_type": "stream",
     "text": [
      "\n",
      "Oops! Please enter valid numbers for day, month, and year.\n"
     ]
    }
   ],
   "source": [
    "import datetime\n",
    "\n",
    "def calculate_birthday():\n",
    "    try:\n",
    "        print(\"Enter your birthday:\")\n",
    "        day = int(input(\"Day (1-31): \"))\n",
    "        month = int(input(\"Month (1-12): \"))\n",
    "        year = int(input(\"Year (e.g., 1990): \"))\n",
    "\n",
    "        birthday = datetime.date(year, month, day)\n",
    "\n",
    "        today = datetime.date.today()\n",
    "        \n",
    "        next_birthday = datetime.date(today.year, month, day)\n",
    "        \n",
    "        if next_birthday < today:\n",
    "            next_birthday = datetime.date(today.year + 1, month, day)\n",
    "        days_left = (next_birthday - today).days\n",
    "        \n",
    "        \n",
    "        print(\"\\n=== Birthday Countdown ===\")\n",
    "        print(f\"Days until your birthday: {days_left}\")\n",
    "        print(f\"Your next birthday is on: {next_birthday.strftime('%A, %B %d, %Y')}\")\n",
    "        \n",
    "    except ValueError:\n",
    "        print(\"\\nOops! Please enter valid numbers for day, month, and year.\")\n",
    "\n",
    "print(\"Birthday Countdown Calculator\")\n",
    "print(\"----------------------------\")\n",
    "calculate_birthday()"
   ]
  },
  {
   "cell_type": "code",
   "execution_count": 52,
   "id": "15c4a822-5785-403e-ac73-ba3ce56e4e49",
   "metadata": {},
   "outputs": [
    {
     "name": "stdout",
     "output_type": "stream",
     "text": [
      "2025-05-03\n",
      "2025-12-03\n"
     ]
    }
   ],
   "source": [
    "import datetime\n",
    "month = 12\n",
    "day= 3\n",
    "today = datetime.date.today()\n",
    "next_birthday = datetime.date(today.year, month, day)\n",
    "print(today)\n",
    "print(next_birthday)"
   ]
  },
  {
   "cell_type": "code",
   "execution_count": 3,
   "id": "7fbe7a4c-91e3-4320-876f-e3bfd96d29ce",
   "metadata": {},
   "outputs": [
    {
     "name": "stdout",
     "output_type": "stream",
     "text": [
      "Enter your birthday:\n"
     ]
    },
    {
     "name": "stdin",
     "output_type": "stream",
     "text": [
      "Day (1-31):  12\n",
      "Month (1-12):  12\n",
      "Year (e.g., 1990):  2004\n"
     ]
    },
    {
     "name": "stdout",
     "output_type": "stream",
     "text": [
      "2004-12-12\n"
     ]
    }
   ],
   "source": [
    "import datetime\n",
    "print(\"Enter your birthday:\")\n",
    "day = int(input(\"Day (1-31): \"))\n",
    "month = int(input(\"Month (1-12): \"))\n",
    "year = int(input(\"Year (e.g., 1990): \"))\n",
    "\n",
    "birthday = datetime.date(year, month, day)\n",
    "print(birthday)"
   ]
  },
  {
   "cell_type": "code",
   "execution_count": null,
   "id": "87908337-e7d4-4d42-b098-cd7d773eeb11",
   "metadata": {},
   "outputs": [],
   "source": []
  }
 ],
 "metadata": {
  "kernelspec": {
   "display_name": "Python 3 (ipykernel)",
   "language": "python",
   "name": "python3"
  },
  "language_info": {
   "codemirror_mode": {
    "name": "ipython",
    "version": 3
   },
   "file_extension": ".py",
   "mimetype": "text/x-python",
   "name": "python",
   "nbconvert_exporter": "python",
   "pygments_lexer": "ipython3",
   "version": "3.12.7"
  }
 },
 "nbformat": 4,
 "nbformat_minor": 5
}
